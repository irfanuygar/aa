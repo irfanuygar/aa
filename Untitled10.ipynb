{
 "cells": [
  {
   "cell_type": "code",
   "execution_count": null,
   "id": "e4f854fa",
   "metadata": {},
   "outputs": [],
   "source": [
    "\"\"\"\n",
    "\n",
    "Asal Sayılar : 1'e ve kendisinden başka sayıya bölünmeyen sayılardır.\n",
    "\n",
    "\"\"\"\n",
    "def asal_mi(sayı):\n",
    "    if (sayı == 1):\n",
    "        return False\n",
    "\n",
    "    elif (sayı == 2):\n",
    "        return True\n",
    "\n",
    "    else:\n",
    "        for i in range(2,sayı):\n",
    "            if (sayı % i == 0):\n",
    "                return False\n",
    "        return True\n",
    "\n",
    "while True:\n",
    "    sayı = input(\"Sayı:\")\n",
    "\n",
    "    if (sayı == \"q\"):\n",
    "        break\n",
    "    else:\n",
    "        sayı = int(sayı)\n",
    "\n",
    "        if (asal_mi(sayı)):\n",
    "            print(sayı,\"asal bir sayıdır.\")\n",
    "        else:\n",
    "            print(sayı,\"asal bir sayı değildir.\")"
   ]
  }
 ],
 "metadata": {
  "kernelspec": {
   "display_name": "Python 3 (ipykernel)",
   "language": "python",
   "name": "python3"
  },
  "language_info": {
   "codemirror_mode": {
    "name": "ipython",
    "version": 3
   },
   "file_extension": ".py",
   "mimetype": "text/x-python",
   "name": "python",
   "nbconvert_exporter": "python",
   "pygments_lexer": "ipython3",
   "version": "3.9.13"
  }
 },
 "nbformat": 4,
 "nbformat_minor": 5
}
